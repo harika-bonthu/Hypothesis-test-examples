{
 "cells": [
  {
   "cell_type": "markdown",
   "metadata": {},
   "source": [
    "# Problem statement: Check if there is any significant difference in average diameter of pizzas between two making units.\n",
    "\n",
    "Step 1: Collect Data\n",
    "\n",
    "Step 2: Define Null and Alternative Hypotheses\n",
    "- Ho = 'There is no significant difference'\n",
    "- Ha = 'There exist a significant difference'\n",
    "\n",
    "Step 3: Set the level of significance (α) = 5%\n",
    "\n",
    "Step 3: Run a test to check the normality\n",
    "\n",
    "Step 4: Draw conclusions using the p-value"
   ]
  },
  {
   "cell_type": "code",
   "execution_count": 62,
   "metadata": {},
   "outputs": [
    {
     "data": {
      "text/html": [
       "<div>\n",
       "<style scoped>\n",
       "    .dataframe tbody tr th:only-of-type {\n",
       "        vertical-align: middle;\n",
       "    }\n",
       "\n",
       "    .dataframe tbody tr th {\n",
       "        vertical-align: top;\n",
       "    }\n",
       "\n",
       "    .dataframe thead th {\n",
       "        text-align: right;\n",
       "    }\n",
       "</style>\n",
       "<table border=\"1\" class=\"dataframe\">\n",
       "  <thead>\n",
       "    <tr style=\"text-align: right;\">\n",
       "      <th></th>\n",
       "      <th>Making Unit 1</th>\n",
       "      <th>Making Unit 2</th>\n",
       "    </tr>\n",
       "  </thead>\n",
       "  <tbody>\n",
       "    <tr>\n",
       "      <th>0</th>\n",
       "      <td>6.8090</td>\n",
       "      <td>6.7703</td>\n",
       "    </tr>\n",
       "    <tr>\n",
       "      <th>1</th>\n",
       "      <td>6.4376</td>\n",
       "      <td>7.5093</td>\n",
       "    </tr>\n",
       "    <tr>\n",
       "      <th>2</th>\n",
       "      <td>6.9157</td>\n",
       "      <td>6.7300</td>\n",
       "    </tr>\n",
       "    <tr>\n",
       "      <th>3</th>\n",
       "      <td>7.3012</td>\n",
       "      <td>6.7878</td>\n",
       "    </tr>\n",
       "    <tr>\n",
       "      <th>4</th>\n",
       "      <td>7.4488</td>\n",
       "      <td>7.1522</td>\n",
       "    </tr>\n",
       "  </tbody>\n",
       "</table>\n",
       "</div>"
      ],
      "text/plain": [
       "   Making Unit 1  Making Unit 2\n",
       "0         6.8090         6.7703\n",
       "1         6.4376         7.5093\n",
       "2         6.9157         6.7300\n",
       "3         7.3012         6.7878\n",
       "4         7.4488         7.1522"
      ]
     },
     "execution_count": 62,
     "metadata": {},
     "output_type": "execute_result"
    }
   ],
   "source": [
    "import pandas as pd \n",
    "pizzas = pd.read_csv('pizzas.csv')\n",
    "pizzas.head()"
   ]
  },
  {
   "cell_type": "code",
   "execution_count": 63,
   "metadata": {},
   "outputs": [],
   "source": [
    "# Diameter is continuous data and we are comapring the data from two units\n",
    "# Y: Continuous, X: Discrete(2)"
   ]
  },
  {
   "cell_type": "code",
   "execution_count": 64,
   "metadata": {},
   "outputs": [],
   "source": [
    "# Set the level of significance \n",
    "alpha = 0.05"
   ]
  },
  {
   "cell_type": "code",
   "execution_count": 65,
   "metadata": {},
   "outputs": [
    {
     "name": "stdout",
     "output_type": "stream",
     "text": [
      "\n",
      "*** Shapiro Test Results of 'Making Unit 1' ***\n",
      "0.32 > 0.05. We fail to reject Null Hypothesis. 'Making Unit 1' data is Normally distributed\n",
      "\n",
      "*** Shapiro Test Results of 'Making Unit 2' ***\n",
      "0.52 > 0.05. We fail to reject Null Hypothesis. 'Making Unit 2' data is Normally distributed\n"
     ]
    }
   ],
   "source": [
    "# Defining Null and Alternative Hypotheses\n",
    "H0 = 'data is Normally distributed'\n",
    "Ha = 'data is not Normally distributed'\n",
    "\n",
    "from scipy.stats import shapiro\n",
    "def check_normality(df):\n",
    "\tfor columnName, columnData in pizzas.iteritems():\n",
    "\t\tprint('\\n' + \"*** Shapiro Test Results of '{}' ***\".format(columnName))\n",
    "\t\tp = round(shapiro(columnData.values)[1], 2)\n",
    "\n",
    "\t\tif p>alpha:\n",
    "\t\t\tprint(f\"{p} > {alpha}. We fail to reject Null Hypothesis. '{columnName}' {H0}\")\n",
    "\t\telse:\n",
    "\t\t\tprint(f\"{p} <= {alpha}. We reject Null Hypothesis. '{columnName}' {Ha}\")\n",
    "\n",
    "check_normality(pizzas)"
   ]
  },
  {
   "cell_type": "code",
   "execution_count": 66,
   "metadata": {},
   "outputs": [
    {
     "name": "stdout",
     "output_type": "stream",
     "text": [
      "\n",
      "*** Variances Test Results' ***\n",
      "1.0 > 0.05. We fail to reject Null Hypothesis. Variances are equal\n"
     ]
    }
   ],
   "source": [
    "H0 = 'Variances are equal'\n",
    "Ha = 'Variances are not equal'\n",
    "\n",
    "from scipy.stats import levene\n",
    "def check_variances(df):\n",
    "\tprint('\\n' + \"*** Variances Test Results' ***\")\n",
    "\tp = round(levene(pizzas['Making Unit 1'], pizzas['Making Unit 1'])[1],2)\n",
    "\n",
    "\tif p>alpha:\n",
    "\t\tprint(f\"{p} > {alpha}. We fail to reject Null Hypothesis. {H0}\")\n",
    "\telse:\n",
    "\t\tprint(f\"{p} <= {alpha}. We reject Null Hypothesis. {Ha}\")\n",
    "\n",
    "check_variances(pizzas)"
   ]
  },
  {
   "cell_type": "code",
   "execution_count": 67,
   "metadata": {},
   "outputs": [
    {
     "name": "stdout",
     "output_type": "stream",
     "text": [
      "\n",
      "*** 2 Sample T Test Results ***\n",
      "1.0 > 0.05. We fail to reject Null Hypothesis. There is no significant difference.\n"
     ]
    }
   ],
   "source": [
    "from scipy.stats import ttest_ind\n",
    "H0 = 'There is no significant difference.'\n",
    "Ha = 'There exist a significant difference.'\n",
    "\n",
    "def t_test(df):\n",
    "    print('\\n' + \"*** 2 Sample T Test Results ***\")\n",
    "    test_results = ttest_ind(pizzas['Making Unit 1'], pizzas['Making Unit 1'], equal_var=True)\n",
    "\n",
    "    p = round(test_results[1],2)\n",
    "\n",
    "    if p>alpha:\n",
    "        print(f\"{p} > {alpha}. We fail to reject Null Hypothesis. {H0}\")\n",
    "    else:\n",
    "        print(f\"{p} <= {alpha}. We reject Null Hypothesis. {Ha}\")\n",
    "\n",
    "t_test(pizzas)"
   ]
  },
  {
   "cell_type": "code",
   "execution_count": null,
   "metadata": {},
   "outputs": [],
   "source": []
  },
  {
   "cell_type": "code",
   "execution_count": null,
   "metadata": {},
   "outputs": [],
   "source": []
  }
 ],
 "metadata": {
  "kernelspec": {
   "display_name": "Python 3",
   "language": "python",
   "name": "python3"
  },
  "language_info": {
   "codemirror_mode": {
    "name": "ipython",
    "version": 3
   },
   "file_extension": ".py",
   "mimetype": "text/x-python",
   "name": "python",
   "nbconvert_exporter": "python",
   "pygments_lexer": "ipython3",
   "version": "3.7.6"
  }
 },
 "nbformat": 4,
 "nbformat_minor": 4
}
